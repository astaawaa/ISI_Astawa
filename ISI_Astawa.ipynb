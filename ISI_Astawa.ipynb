{
  "nbformat": 4,
  "nbformat_minor": 0,
  "metadata": {
    "colab": {
      "provenance": [],
      "authorship_tag": "ABX9TyOtVP+9Z3fERSUq5NH3d5XM",
      "include_colab_link": true
    },
    "kernelspec": {
      "name": "python3",
      "display_name": "Python 3"
    },
    "language_info": {
      "name": "python"
    }
  },
  "cells": [
    {
      "cell_type": "markdown",
      "metadata": {
        "id": "view-in-github",
        "colab_type": "text"
      },
      "source": [
        "<a href=\"https://colab.research.google.com/github/astaawaa/ISI_Astawa/blob/main/ISI_Astawa.ipynb\" target=\"_parent\"><img src=\"https://colab.research.google.com/assets/colab-badge.svg\" alt=\"Open In Colab\"/></a>"
      ]
    },
    {
      "cell_type": "code",
      "execution_count": 2,
      "metadata": {
        "colab": {
          "base_uri": "https://localhost:8080/"
        },
        "id": "EFU8aSoik9Te",
        "outputId": "daf5fc15-7ba3-458f-d638-150f60c761f5"
      },
      "outputs": [
        {
          "output_type": "stream",
          "name": "stdout",
          "text": [
            "Distance: 1.4088 km\n"
          ]
        }
      ],
      "source": [
        "import requests\n",
        "\n",
        "def get_distance(api_key, start, end):\n",
        "    url = f\"https://api.openrouteservice.org/v2/directions/driving-car?api_key={api_key}&start={start}&end={end}\"\n",
        "    response = requests.get(url)\n",
        "\n",
        "    if response.status_code == 200:\n",
        "        data = response.json()\n",
        "        distance = data['features'][0]['properties']['summary']['distance']\n",
        "        return distance / 1000\n",
        "    else:\n",
        "        return f\"Error: {response.status_code}, {response.text}\"\n",
        "\n",
        "\n",
        "api_key = \"5b3ce3597851110001cf62486082740b42a1418daba959e0006f5e4a\"\n",
        "start = \"8.681495,49.41461\"\n",
        "end = \"8.687872,49.420318\"\n",
        "\n",
        "distance = get_distance(api_key, start, end)\n",
        "print(f\"Distance: {distance} km\")"
      ]
    }
  ]
}